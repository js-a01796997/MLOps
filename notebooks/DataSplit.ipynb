{
  "cells": [
    {
      "cell_type": "code",
      "execution_count": 1,
      "metadata": {},
      "outputs": [
        {
          "name": "stdout",
          "output_type": "stream",
          "text": [
            "/Users/paolaalejandraleonguarneros/Documents/GitHub/MLOps\n"
          ]
        }
      ],
      "source": [
        "%cd .."
      ]
    },
    {
      "cell_type": "code",
      "execution_count": 2,
      "metadata": {
        "id": "GQ3gFSW5JVGg"
      },
      "outputs": [],
      "source": [
        "import pandas as pd\n",
        "from pandas.api.types import CategoricalDtype\n",
        "from sklearn.model_selection import train_test_split\n",
        "from sklearn.preprocessing import MinMaxScaler"
      ]
    },
    {
      "cell_type": "code",
      "execution_count": 4,
      "metadata": {
        "id": "tHFfDrkeI3zU"
      },
      "outputs": [],
      "source": [
        "bici = 'data/processed/bike_sharing_cleaned.csv'\n",
        "df = pd.read_csv(bici)"
      ]
    },
    {
      "cell_type": "code",
      "execution_count": 5,
      "metadata": {
        "colab": {
          "base_uri": "https://localhost:8080/"
        },
        "id": "_0QLL7jOJVbr",
        "outputId": "43a711c1-3ae1-4b6c-c3a5-7568b87ca12b"
      },
      "outputs": [
        {
          "name": "stdout",
          "output_type": "stream",
          "text": [
            "<class 'pandas.core.frame.DataFrame'>\n",
            "RangeIndex: 17355 entries, 0 to 17354\n",
            "Data columns (total 17 columns):\n",
            " #   Column      Non-Null Count  Dtype  \n",
            "---  ------      --------------  -----  \n",
            " 0   instant     17088 non-null  float64\n",
            " 1   dteday      17161 non-null  object \n",
            " 2   season      17352 non-null  float64\n",
            " 3   yr          17351 non-null  float64\n",
            " 4   mnth        17351 non-null  float64\n",
            " 5   hr          16983 non-null  float64\n",
            " 6   holiday     17355 non-null  int64  \n",
            " 7   weekday     17353 non-null  float64\n",
            " 8   workingday  17348 non-null  float64\n",
            " 9   weathersit  17355 non-null  int64  \n",
            " 10  temp        17355 non-null  float64\n",
            " 11  atemp       17355 non-null  float64\n",
            " 12  hum         17355 non-null  float64\n",
            " 13  windspeed   17355 non-null  float64\n",
            " 14  casual      17355 non-null  int64  \n",
            " 15  registered  17355 non-null  int64  \n",
            " 16  cnt         17355 non-null  int64  \n",
            "dtypes: float64(11), int64(5), object(1)\n",
            "memory usage: 2.3+ MB\n",
            "None\n"
          ]
        }
      ],
      "source": [
        "print(df.info())"
      ]
    },
    {
      "cell_type": "code",
      "execution_count": 6,
      "metadata": {
        "colab": {
          "base_uri": "https://localhost:8080/"
        },
        "id": "8lcznPRQJXWO",
        "outputId": "b08015f8-19f1-4a1f-f07c-acccb69078a2"
      },
      "outputs": [
        {
          "name": "stdout",
          "output_type": "stream",
          "text": [
            "Se cambiará el tipo de dato de las columnas season, mnth, weekday y weathersit a categóricas.\n",
            "<class 'pandas.core.frame.DataFrame'>\n",
            "RangeIndex: 17355 entries, 0 to 17354\n",
            "Data columns (total 17 columns):\n",
            " #   Column      Non-Null Count  Dtype   \n",
            "---  ------      --------------  -----   \n",
            " 0   instant     17088 non-null  Int64   \n",
            " 1   dteday      17161 non-null  object  \n",
            " 2   season      17350 non-null  category\n",
            " 3   yr          17351 non-null  Int64   \n",
            " 4   mnth        17351 non-null  category\n",
            " 5   hr          16983 non-null  float64 \n",
            " 6   holiday     17355 non-null  Int64   \n",
            " 7   weekday     17353 non-null  category\n",
            " 8   workingday  17348 non-null  Int64   \n",
            " 9   weathersit  17355 non-null  category\n",
            " 10  temp        17355 non-null  float64 \n",
            " 11  atemp       17355 non-null  float64 \n",
            " 12  hum         17355 non-null  float64 \n",
            " 13  windspeed   17355 non-null  float64 \n",
            " 14  casual      17355 non-null  Int64   \n",
            " 15  registered  17355 non-null  Int64   \n",
            " 16  cnt         17355 non-null  Int64   \n",
            "dtypes: Int64(7), category(4), float64(5), object(1)\n",
            "memory usage: 1.9+ MB\n",
            "None\n"
          ]
        }
      ],
      "source": [
        "print(\"Se cambiará el tipo de dato de las columnas season, mnth, weekday y weathersit a categóricas.\")\n",
        "\n",
        "cat_cols   = [\"season\", \"mnth\", \"weekday\", \"weathersit\"]   # categóricas\n",
        "int_cols   = [\"yr\", \"holiday\", \"workingday\", \"cnt\", \"registered\", \"casual\",\"instant\",\"mixed_type_col\"]        # enteras\n",
        "float_cols = [\"temp\", \"atemp\", \"hum\", \"windspeed\"]         # continuas\n",
        "\n",
        "#Convertir a numérico correctamente\n",
        "cols = [c for c in (cat_cols + int_cols + float_cols) if c in df.columns]\n",
        "df[cols] = df[cols].apply(pd.to_numeric, errors=\"coerce\")\n",
        "\n",
        "season_dtype     = CategoricalDtype(categories=[1,2,3,4], ordered=False)\n",
        "mnth_dtype       = CategoricalDtype(categories=list(range(1,13)), ordered=False)\n",
        "weekday_dtype    = CategoricalDtype(categories=list(range(0,7)), ordered=False)\n",
        "weathersit_dtype = CategoricalDtype(categories=[1,2,3,4], ordered=False)\n",
        "\n",
        "dtype_map = {\n",
        "    \"season\": season_dtype,\n",
        "    \"mnth\": mnth_dtype,\n",
        "    \"weekday\": weekday_dtype,\n",
        "    \"weathersit\": weathersit_dtype,\n",
        "}\n",
        "\n",
        "for c, ctype in dtype_map.items():\n",
        "    if c in df.columns:\n",
        "        df[c] = df[c].astype(ctype)\n",
        "\n",
        "\n",
        "for c in int_cols:\n",
        "    if c in df.columns:\n",
        "        df[c] = df[c].astype(\"Int64\")\n",
        "\n",
        "\n",
        "for c in float_cols:\n",
        "    if c in df.columns:\n",
        "       df[c] = df[c].astype(\"float64\")\n",
        "\n",
        "print(df.info())"
      ]
    },
    {
      "cell_type": "code",
      "execution_count": 7,
      "metadata": {
        "id": "aeI-SqlAK9qm"
      },
      "outputs": [
        {
          "name": "stdout",
          "output_type": "stream",
          "text": [
            "Se eliminaron las columnas instant, casual, registered y dteday por ser redundantes para el modelo\n",
            "Se escalaron las variables temp, atemp, hum, windspeed y cnt\n"
          ]
        }
      ],
      "source": [
        "df_new = df.drop(['instant','casual','registered','dteday'], axis=1)\n",
        "print(\"Se eliminaron las columnas instant, casual, registered y dteday por ser redundantes para el modelo\")\n",
        "#Convertimos a números a las variables categóricas\n",
        "df_new = pd.get_dummies(df_new, drop_first=True)\n",
        "#Separación de los datos en train, validation y test\n",
        "df_train, df_vt = train_test_split(df_new, train_size = 0.70, test_size = 0.30, random_state = 333)\n",
        "df_valid, df_test = train_test_split(df_vt, train_size = 0.50, test_size = 0.50, random_state = 333)\n",
        "#Reescalaremos las variables del conjunto de entrenamiento\n",
        "scaler = MinMaxScaler()\n",
        "df_train[['temp', 'atemp', 'hum', 'windspeed','cnt']] = scaler.fit_transform(df_train[['temp', 'atemp', 'hum', 'windspeed','cnt']])\n",
        "print(\"Se escalaron las variables temp, atemp, hum, windspeed y cnt\")\n",
        "cols_to_scale = ['temp', 'atemp', 'hum', 'windspeed', 'cnt']\n",
        "\n",
        "# Asegurar que las columnas de validación y test sean float antes de asignar los valores escalados\n",
        "for df_ in (df_valid, df_test):\n",
        "    for c in cols_to_scale:\n",
        "        if c in df_.columns:\n",
        "            df_.loc[:, c] = df_[c].astype(\"float64\")\n",
        "\n",
        "df_valid.loc[:, cols_to_scale] = scaler.transform(df_valid[cols_to_scale])\n",
        "df_test.loc[:, cols_to_scale]  = scaler.transform(df_test[cols_to_scale])\n",
        "\n",
        "print(\"Se escalaron las variables temp, atemp, hum, windspeed y cnt en validación y test.\")\n",
        "\n",
        "import pickle\n",
        "\n",
        "scaler_path = \"models/minmax_scaler.pickle\"\n",
        "with open(scaler_path, \"wb\") as f:\n",
        "    pickle.dump(scaler, f)\n",
        "\n",
        "print(f\"Scaler guardado en: {scaler_path}\")"
      ]
    },
    {
      "cell_type": "code",
      "execution_count": null,
      "metadata": {},
      "outputs": [],
      "source": []
    }
  ],
  "metadata": {
    "colab": {
      "provenance": []
    },
    "kernelspec": {
      "display_name": "MLOps",
      "language": "python",
      "name": "python3"
    },
    "language_info": {
      "codemirror_mode": {
        "name": "ipython",
        "version": 3
      },
      "file_extension": ".py",
      "mimetype": "text/x-python",
      "name": "python",
      "nbconvert_exporter": "python",
      "pygments_lexer": "ipython3",
      "version": "3.12.12"
    }
  },
  "nbformat": 4,
  "nbformat_minor": 0
}
